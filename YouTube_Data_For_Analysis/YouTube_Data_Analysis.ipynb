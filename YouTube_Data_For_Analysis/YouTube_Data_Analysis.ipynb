{
 "cells": [
  {
   "cell_type": "markdown",
   "id": "52b6ef52-3c3d-40b6-bc8f-50e1f87edae5",
   "metadata": {},
   "source": [
    "Youtube Data Analysis Project"
   ]
  },
  {
   "cell_type": "markdown",
   "id": "3b310050-7f8e-45d3-8791-4aa6308365ec",
   "metadata": {},
   "source": [
    "1. We will be importing our basic libraries and functions in it."
   ]
  },
  {
   "cell_type": "code",
   "execution_count": 1,
   "id": "9e076f37-b4d7-41b8-8d46-de2a23fbfd1a",
   "metadata": {},
   "outputs": [
    {
     "name": "stderr",
     "output_type": "stream",
     "text": [
      "[nltk_data] Downloading package stopwords to\n",
      "[nltk_data]     C:\\Users\\PRABHAT\\AppData\\Roaming\\nltk_data...\n",
      "[nltk_data]   Package stopwords is already up-to-date!\n",
      "[nltk_data] Downloading package punkt to\n",
      "[nltk_data]     C:\\Users\\PRABHAT\\AppData\\Roaming\\nltk_data...\n",
      "[nltk_data]   Package punkt is already up-to-date!\n"
     ]
    },
    {
     "data": {
      "text/plain": [
       "True"
      ]
     },
     "execution_count": 1,
     "metadata": {},
     "output_type": "execute_result"
    }
   ],
   "source": [
    "import pandas as pd\n",
    "import numpy as np\n",
    "import json\n",
    "from dateutil import parser\n",
    "import isodate\n",
    "\n",
    "# Google API for data \n",
    "from googleapiclient.discovery import build\n",
    "\n",
    "# Libraries for Data Visualization\n",
    "import matplotlib.pyplot as plt\n",
    "import matplotlib.ticker as ticker\n",
    "import seaborn as sns\n",
    "sns.set(style=\"darkgrid\", color_codes=True)\n",
    "\n",
    "# Some NLP libraries\n",
    "import nltk \n",
    "from nltk.corpus import stopwords\n",
    "from nltk.tokenize import word_tokenize\n",
    "nltk.download('stopwords')\n",
    "nltk.download('punkt')\n",
    "# from wordcloud import WordCloud"
   ]
  },
  {
   "cell_type": "markdown",
   "id": "822aa60e-1fd4-4ec4-a1ca-4ef85dc41f6f",
   "metadata": {},
   "source": [
    "2. Now We will bw creating an function for calling data from the youtube api. "
   ]
  },
  {
   "cell_type": "code",
   "execution_count": 2,
   "id": "c486762d-d2c5-4a74-8cb7-ab83e8631d2f",
   "metadata": {},
   "outputs": [],
   "source": [
    "def youtube_api_runner(): \n",
    "    api_key = ''\n",
    "\n",
    "    youtube_data = build('youtube', 'v3', developerKey=api_key)\n",
    "    return youtube_data"
   ]
  },
  {
   "cell_type": "markdown",
   "id": "5bd6c300-4d89-4393-b57d-bc5122b93f40",
   "metadata": {},
   "source": [
    "3. Now we will be defining some functions here for different type of data we want to check or perform transformation on. "
   ]
  },
  {
   "cell_type": "code",
   "execution_count": 3,
   "id": "a2099ae0-eab2-4251-9f45-34a596c1bb0d",
   "metadata": {},
   "outputs": [],
   "source": [
    "def get_channel_stats(youtube_data, channel_ids): \n",
    "    all_data = []\n",
    "\n",
    "    request = youtube_data.channels().list(\n",
    "        part='snippet,contentDetails,statistics', \n",
    "        id=','.join(channel_ids))\n",
    "    response = request.execute()\n",
    "\n",
    "    for i in range(len(response['items'])):\n",
    "        data = dict(channelName = response['items'][i]['snippet']['title'],\n",
    "                    subscribers = response['items'][i]['statistics']['subscriberCount'],\n",
    "                    views = response['items'][i]['statistics']['viewCount'],\n",
    "                    totalVideos = response['items'][i]['statistics']['videoCount'],\n",
    "                    playListId = response['items'][i]['contentDetails']['relatedPlaylists']['uploads'])\n",
    "\n",
    "        all_data.append(data)\n",
    "\n",
    "    return pd.DataFrame(all_data)"
   ]
  },
  {
   "cell_type": "code",
   "execution_count": 4,
   "id": "94786e11-7d98-40e2-8790-7d3cbbb1c5e8",
   "metadata": {},
   "outputs": [],
   "source": [
    "youtube_data = youtube_api_runner()"
   ]
  },
  {
   "cell_type": "code",
   "execution_count": 6,
   "id": "064243b0-bcd9-4d62-be58-af537e539461",
   "metadata": {},
   "outputs": [
    {
     "data": {
      "text/html": [
       "<div>\n",
       "<style scoped>\n",
       "    .dataframe tbody tr th:only-of-type {\n",
       "        vertical-align: middle;\n",
       "    }\n",
       "\n",
       "    .dataframe tbody tr th {\n",
       "        vertical-align: top;\n",
       "    }\n",
       "\n",
       "    .dataframe thead th {\n",
       "        text-align: right;\n",
       "    }\n",
       "</style>\n",
       "<table border=\"1\" class=\"dataframe\">\n",
       "  <thead>\n",
       "    <tr style=\"text-align: right;\">\n",
       "      <th></th>\n",
       "      <th>channelName</th>\n",
       "      <th>subscribers</th>\n",
       "      <th>views</th>\n",
       "      <th>totalVideos</th>\n",
       "      <th>playListId</th>\n",
       "    </tr>\n",
       "  </thead>\n",
       "  <tbody>\n",
       "    <tr>\n",
       "      <th>0</th>\n",
       "      <td>Luke Barousse</td>\n",
       "      <td>395000</td>\n",
       "      <td>19028164</td>\n",
       "      <td>146</td>\n",
       "      <td>UULLw7jmFsvfIVaUFsLs8mlQ</td>\n",
       "    </tr>\n",
       "    <tr>\n",
       "      <th>1</th>\n",
       "      <td>Alex The Analyst</td>\n",
       "      <td>641000</td>\n",
       "      <td>27195631</td>\n",
       "      <td>266</td>\n",
       "      <td>UU7cs8q-gJRlGwj4A8OmCmXg</td>\n",
       "    </tr>\n",
       "    <tr>\n",
       "      <th>2</th>\n",
       "      <td>Tina Huang</td>\n",
       "      <td>593000</td>\n",
       "      <td>27259027</td>\n",
       "      <td>162</td>\n",
       "      <td>UU2UXDak6o7rBm23k3Vv5dww</td>\n",
       "    </tr>\n",
       "    <tr>\n",
       "      <th>3</th>\n",
       "      <td>sentdex</td>\n",
       "      <td>1280000</td>\n",
       "      <td>112645852</td>\n",
       "      <td>1249</td>\n",
       "      <td>UUfzlCWGWYyIQ0aLC5w48gBQ</td>\n",
       "    </tr>\n",
       "    <tr>\n",
       "      <th>4</th>\n",
       "      <td>StatQuest with Josh Starmer</td>\n",
       "      <td>1050000</td>\n",
       "      <td>57063508</td>\n",
       "      <td>265</td>\n",
       "      <td>UUtYLUTtgS3k1Fg4y5tAhLbw</td>\n",
       "    </tr>\n",
       "    <tr>\n",
       "      <th>5</th>\n",
       "      <td>Corey Schafer</td>\n",
       "      <td>1240000</td>\n",
       "      <td>91123466</td>\n",
       "      <td>232</td>\n",
       "      <td>UUCezIgC97PvUuR4_gbFUs5g</td>\n",
       "    </tr>\n",
       "    <tr>\n",
       "      <th>6</th>\n",
       "      <td>Krish Naik</td>\n",
       "      <td>847000</td>\n",
       "      <td>85779772</td>\n",
       "      <td>1753</td>\n",
       "      <td>UUNU_lfiiWBdtULKOw6X0Dig</td>\n",
       "    </tr>\n",
       "    <tr>\n",
       "      <th>7</th>\n",
       "      <td>Data Science Dojo</td>\n",
       "      <td>101000</td>\n",
       "      <td>5724386</td>\n",
       "      <td>455</td>\n",
       "      <td>UUzL_0nIe8B4-7ShhVPfJkgw</td>\n",
       "    </tr>\n",
       "    <tr>\n",
       "      <th>8</th>\n",
       "      <td>Ken Jee</td>\n",
       "      <td>254000</td>\n",
       "      <td>8726436</td>\n",
       "      <td>286</td>\n",
       "      <td>UUiT9RITQ9PW6BhXK0y2jaeg</td>\n",
       "    </tr>\n",
       "  </tbody>\n",
       "</table>\n",
       "</div>"
      ],
      "text/plain": [
       "                   channelName subscribers      views totalVideos  \\\n",
       "0                Luke Barousse      395000   19028164         146   \n",
       "1             Alex The Analyst      641000   27195631         266   \n",
       "2                   Tina Huang      593000   27259027         162   \n",
       "3                      sentdex     1280000  112645852        1249   \n",
       "4  StatQuest with Josh Starmer     1050000   57063508         265   \n",
       "5                Corey Schafer     1240000   91123466         232   \n",
       "6                   Krish Naik      847000   85779772        1753   \n",
       "7            Data Science Dojo      101000    5724386         455   \n",
       "8                      Ken Jee      254000    8726436         286   \n",
       "\n",
       "                 playListId  \n",
       "0  UULLw7jmFsvfIVaUFsLs8mlQ  \n",
       "1  UU7cs8q-gJRlGwj4A8OmCmXg  \n",
       "2  UU2UXDak6o7rBm23k3Vv5dww  \n",
       "3  UUfzlCWGWYyIQ0aLC5w48gBQ  \n",
       "4  UUtYLUTtgS3k1Fg4y5tAhLbw  \n",
       "5  UUCezIgC97PvUuR4_gbFUs5g  \n",
       "6  UUNU_lfiiWBdtULKOw6X0Dig  \n",
       "7  UUzL_0nIe8B4-7ShhVPfJkgw  \n",
       "8  UUiT9RITQ9PW6BhXK0y2jaeg  "
      ]
     },
     "execution_count": 6,
     "metadata": {},
     "output_type": "execute_result"
    }
   ],
   "source": [
    "channel_ids = [\n",
    "        'UCtYLUTtgS3k1Fg4y5tAhLbw', # Statquest\n",
    "        'UCCezIgC97PvUuR4_gbFUs5g', # Corey Schafer\n",
    "        'UCfzlCWGWYyIQ0aLC5w48gBQ', # Sentdex\n",
    "        'UCNU_lfiiWBdtULKOw6X0Dig', # Krish Naik\n",
    "        'UCzL_0nIe8B4-7ShhVPfJkgw', # DatascienceDoJo\n",
    "        'UCLLw7jmFsvfIVaUFsLs8mlQ', # Luke Barousse \n",
    "        'UCiT9RITQ9PW6BhXK0y2jaeg', # Ken Jee\n",
    "        'UC7cs8q-gJRlGwj4A8OmCmXg', # Alex the analyst\n",
    "        'UC2UXDak6o7rBm23k3Vv5dww', # Tina Huang\n",
    "    ]\n",
    "# youtube_data_json = json.load(youtube_data)\n",
    "# youtube_data_json = pd.DataFrame()\n",
    "# youtube_data_json\n",
    "\n",
    "channel_data = get_channel_stats(youtube_data, channel_ids)\n",
    "channel_data"
   ]
  },
  {
   "cell_type": "code",
   "execution_count": 9,
   "id": "cc35797c-0dfe-4693-851d-fbe131828240",
   "metadata": {},
   "outputs": [],
   "source": [
    "# type(channel_data[subscribers])\n",
    "numeric_cols = ['subscribers', 'views', 'totalVideos']\n",
    "channel_data[numeric_cols] = channel_data[numeric_cols].apply(pd.to_numeric, errors='coerce')"
   ]
  },
  {
   "cell_type": "code",
   "execution_count": 40,
   "id": "9a08a46b-9f7a-4f07-9e95-a995f4041432",
   "metadata": {},
   "outputs": [
    {
     "name": "stderr",
     "output_type": "stream",
     "text": [
      "C:\\Users\\PRABHAT\\AppData\\Local\\Temp\\ipykernel_17924\\1494984967.py:4: UserWarning: set_ticklabels() should only be used with a fixed number of ticks, i.e. after set_ticks() or using a FixedLocator.\n",
      "  plot = ax.set_xticklabels(ax.get_xticklabels(), rotation=90)\n"
     ]
    },
    {
     "data": {
      "image/png": "[encoded data removed]",
      "text/plain": [
       "<Figure size 1000x800 with 1 Axes>"
      ]
     },
     "metadata": {},
     "output_type": "display_data"
    }
   ],
   "source": [
    "sns.set(rc={'figure.figsize':(10,8)})\n",
    "ax = sns.barplot(x='channelName', y='subscribers', data=channel_data.sort_values('subscribers', ascending=False))\n",
    "ax.yaxis.set_major_formatter(ticker.FuncFormatter(lambda x, pos: '{:,.0f}'.format(x/1000) + 'K'))\n",
    "plot = ax.set_xticklabels(ax.get_xticklabels(), rotation=90)"
   ]
  },
  {
   "cell_type": "code",
   "execution_count": null,
   "id": "7a475fe6-a3b6-4ff9-a1f7-d185fd89f0fe",
   "metadata": {},
   "outputs": [],
   "source": []
  }
 ],
 "metadata": {
  "kernelspec": {
   "display_name": "Python 3 (ipykernel)",
   "language": "python",
   "name": "python3"
  },
  "language_info": {
   "codemirror_mode": {
    "name": "ipython",
    "version": 3
   },
   "file_extension": ".py",
   "mimetype": "text/x-python",
   "name": "python",
   "nbconvert_exporter": "python",
   "pygments_lexer": "ipython3",
   "version": "3.12.0"
  }
 },
 "nbformat": 4,
 "nbformat_minor": 5
}
